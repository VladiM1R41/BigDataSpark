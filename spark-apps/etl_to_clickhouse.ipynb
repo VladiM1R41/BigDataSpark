{
 "cells": [
  {
   "cell_type": "code",
   "execution_count": 1,
   "id": "48a0fcd8-4fee-4b28-878f-319d338b486b",
   "metadata": {},
   "outputs": [],
   "source": [
    "from pyspark.sql import SparkSession\n",
    "from pyspark.sql.functions import sum, avg, count, countDistinct, col, desc, rank\n",
    "from pyspark.sql.window import Window"
   ]
  },
  {
   "cell_type": "code",
   "execution_count": 2,
   "id": "b894405f-1b3c-4d39-803d-f11cc2783ea2",
   "metadata": {},
   "outputs": [],
   "source": [
    "spark = SparkSession.builder \\\n",
    "    .appName(\"ETL to ClickHouse\") \\\n",
    "    .config(\"spark.jars\", \"/home/jovyan/jars/postgresql-42.7.3.jar,/home/jovyan/jars/clickhouse-jdbc-0.4.6.jar\") \\\n",
    "    .getOrCreate()\n"
   ]
  },
  {
   "cell_type": "code",
   "execution_count": 3,
   "id": "0b2e34d3-c1a1-41ed-a037-0553cdcb020e",
   "metadata": {},
   "outputs": [],
   "source": [
    "jdbc_url = \"jdbc:postgresql://bigdata_postgres:5432/pet_sales\"\n",
    "properties = {\n",
    "    \"user\": \"lab_user\",\n",
    "    \"password\": \"lab_password\",\n",
    "    \"driver\": \"org.postgresql.Driver\"\n",
    "}\n"
   ]
  },
  {
   "cell_type": "code",
   "execution_count": 4,
   "id": "bad683fa-ed27-4e33-a333-e5980451481d",
   "metadata": {},
   "outputs": [],
   "source": [
    "fact_sales = spark.read.jdbc(url=jdbc_url, table=\"fact_sales\", properties=properties)\n",
    "dim_product = spark.read.jdbc(url=jdbc_url, table=\"dim_product\", properties=properties)\n",
    "dim_customer = spark.read.jdbc(url=jdbc_url, table=\"dim_customer\", properties=properties)\n",
    "dim_time = spark.read.jdbc(url=jdbc_url, table=\"dim_time\", properties=properties)\n",
    "dim_store = spark.read.jdbc(url=jdbc_url, table=\"dim_store\", properties=properties)\n",
    "dim_supplier = spark.read.jdbc(url=jdbc_url, table=\"dim_supplier\", properties=properties)"
   ]
  },
  {
   "cell_type": "code",
   "execution_count": 5,
   "id": "c4b0c41d-18ac-4873-8173-58d6449cceb8",
   "metadata": {},
   "outputs": [],
   "source": [
    "clickhouse_url = \"jdbc:clickhouse://clickhouse:8123/default\""
   ]
  },
  {
   "cell_type": "code",
   "execution_count": 8,
   "id": "fdd92c6c-d452-44d3-9169-28d5bd55ef4e",
   "metadata": {},
   "outputs": [
    {
     "name": "stdout",
     "output_type": "stream",
     "text": [
      "\n",
      "===> Витрина продаж по продуктам:\n",
      "Цель: Анализ выручки, количества продаж и популярности продуктов.\n",
      "+------------+----------------+-------------------+--------------------+--------------------+-------------+\n",
      "|product_name|product_category|total_quantity_sold|       total_revenue|          avg_rating|total_reviews|\n",
      "+------------+----------------+-------------------+--------------------+--------------------+-------------+\n",
      "|    Dog Food|             Toy|               6441|298455.0600000000...|3.046153846153846...|       598730|\n",
      "|    Dog Food|            Food|               5628|265113.7200000000...|2.886407766990291...|       507690|\n",
      "|    Dog Food|            Cage|               6214|285186.5700000000...|3.098260869565217...|       522080|\n",
      "|   Bird Cage|             Toy|               6126|278616.2800000000...|3.129729729729729...|       507840|\n",
      "|   Bird Cage|            Cage|               6172|294655.3600000000...|3.118421052631578...|       552440|\n",
      "+------------+----------------+-------------------+--------------------+--------------------+-------------+\n",
      "only showing top 5 rows\n",
      "\n"
     ]
    }
   ],
   "source": [
    "print(\"\\n===> Витрина продаж по продуктам:\")\n",
    "product_report = fact_sales.alias(\"f\") \\\n",
    "    .join(dim_product.alias(\"p\"), \"product_id\") \\\n",
    "    .groupBy(\"p.product_name\", \"p.product_category\") \\\n",
    "    .agg(\n",
    "        sum(\"f.quantity\").alias(\"total_quantity_sold\"),\n",
    "        sum(\"f.total_price\").alias(\"total_revenue\"),\n",
    "        avg(\"p.product_rating\").alias(\"avg_rating\"),\n",
    "        sum(\"p.product_reviews\").alias(\"total_reviews\")\n",
    "    )\n",
    "print(\"Цель: Анализ выручки, количества продаж и популярности продуктов.\")\n",
    "product_report.show(5)"
   ]
  },
  {
   "cell_type": "code",
   "execution_count": 9,
   "id": "34f469f6-29f6-4419-89ee-6b5a2ffb806e",
   "metadata": {},
   "outputs": [
    {
     "name": "stdout",
     "output_type": "stream",
     "text": [
      "\n",
      "===> ТОП-10 самых продаваемых продуктов:\n",
      "+------------+----------------+-------------------+--------------------+--------------------+-------------+\n",
      "|product_name|product_category|total_quantity_sold|       total_revenue|          avg_rating|total_reviews|\n",
      "+------------+----------------+-------------------+--------------------+--------------------+-------------+\n",
      "|     Cat Toy|            Food|               6847|316687.0800000000...|2.921600000000000...|       653320|\n",
      "|    Dog Food|             Toy|               6441|298455.0600000000...|3.046153846153846...|       598730|\n",
      "|   Bird Cage|            Cage|               6172|294655.3600000000...|3.118421052631578...|       552440|\n",
      "|    Dog Food|            Cage|               6214|285186.5700000000...|3.098260869565217...|       522080|\n",
      "|   Bird Cage|             Toy|               6126|278616.2800000000...|3.129729729729729...|       507840|\n",
      "|     Cat Toy|            Cage|               5812|265680.0500000000...|2.948113207547169...|       523020|\n",
      "|    Dog Food|            Food|               5628|265113.7200000000...|2.886407766990291...|       507690|\n",
      "|     Cat Toy|             Toy|               5954|264149.1300000000...|3.057943925233644...|       570810|\n",
      "|   Bird Cage|            Food|               5429|261308.8700000000...|3.182352941176470...|       540150|\n",
      "+------------+----------------+-------------------+--------------------+--------------------+-------------+\n",
      "\n"
     ]
    }
   ],
   "source": [
    "print(\"\\n===> ТОП-10 самых продаваемых продуктов:\")\n",
    "top_products = product_report.orderBy(desc(\"total_revenue\")).limit(9)\n",
    "top_products.show()"
   ]
  },
  {
   "cell_type": "code",
   "execution_count": 10,
   "id": "1a4d4695-99ed-4558-9564-83bcdd2d0e8f",
   "metadata": {},
   "outputs": [
    {
     "name": "stdout",
     "output_type": "stream",
     "text": [
      "\n",
      "===> Общая выручка по категориям продуктов:\n",
      "+----------------+--------------------+\n",
      "|product_category|       total_revenue|\n",
      "+----------------+--------------------+\n",
      "|            Cage|845521.9800000000...|\n",
      "|            Food|843109.6700000000...|\n",
      "|             Toy|841220.4700000000...|\n",
      "+----------------+--------------------+\n",
      "\n"
     ]
    }
   ],
   "source": [
    "print(\"\\n===> Общая выручка по категориям продуктов:\")\n",
    "category_revenue = product_report.groupBy(\"product_category\").agg(sum(\"total_revenue\").alias(\"total_revenue\"))\n",
    "category_revenue.show()"
   ]
  },
  {
   "cell_type": "code",
   "execution_count": 11,
   "id": "2a694d49-ce8b-49f8-93ce-f151725f0925",
   "metadata": {},
   "outputs": [
    {
     "name": "stdout",
     "output_type": "stream",
     "text": [
      "\n",
      "===> Средний рейтинг и количество отзывов для каждого продукта:\n",
      "+------------+--------------------+-------------+\n",
      "|product_name|          avg_rating|total_reviews|\n",
      "+------------+--------------------+-------------+\n",
      "|    Dog Food|3.046153846153846...|       598730|\n",
      "|    Dog Food|2.886407766990291...|       507690|\n",
      "|    Dog Food|3.098260869565217...|       522080|\n",
      "|   Bird Cage|3.129729729729729...|       507840|\n",
      "|   Bird Cage|3.118421052631578...|       552440|\n",
      "|   Bird Cage|3.182352941176470...|       540150|\n",
      "|     Cat Toy|2.948113207547169...|       523020|\n",
      "|     Cat Toy|2.921600000000000...|       653320|\n",
      "|     Cat Toy|3.057943925233644...|       570810|\n",
      "+------------+--------------------+-------------+\n",
      "\n"
     ]
    }
   ],
   "source": [
    "print(\"\\n===> Средний рейтинг и количество отзывов для каждого продукта:\")\n",
    "ratings_and_reviews = product_report.select(\"product_name\", \"avg_rating\", \"total_reviews\")\n",
    "ratings_and_reviews.show()"
   ]
  },
  {
   "cell_type": "code",
   "execution_count": 12,
   "id": "05d415f8-3964-4d57-b14a-5dbebb277399",
   "metadata": {},
   "outputs": [
    {
     "name": "stdout",
     "output_type": "stream",
     "text": [
      "\n",
      "===> Витрина продаж по клиентам:\n"
     ]
    }
   ],
   "source": [
    "print(\"\\n===> Витрина продаж по клиентам:\")\n",
    "customer_report = fact_sales.alias(\"f\") \\\n",
    "    .join(dim_customer.alias(\"c\"), \"customer_id\") \\\n",
    "    .groupBy(\"c.customer_first_name\", \"c.customer_last_name\", \"c.customer_country\") \\\n",
    "    .agg(\n",
    "        sum(\"f.total_price\").alias(\"total_spent\"),\n",
    "        count(\"*\").alias(\"total_orders\"),\n",
    "        avg(\"f.total_price\").alias(\"avg_order_value\")\n",
    "    )"
   ]
  },
  {
   "cell_type": "code",
   "execution_count": 13,
   "id": "0d4f9c4e-b3ac-4c4b-b2c7-4dea6a32ea5f",
   "metadata": {},
   "outputs": [
    {
     "name": "stdout",
     "output_type": "stream",
     "text": [
      "Цель: Анализ покупательского поведения и сегментация клиентов.\n",
      "+-------------------+------------------+----------------+--------------------+------------+--------------------+\n",
      "|customer_first_name|customer_last_name|customer_country|         total_spent|total_orders|     avg_order_value|\n",
      "+-------------------+------------------+----------------+--------------------+------------+--------------------+\n",
      "|           Charlene|           Topping|            Mali|2886.370000000000...|          10|288.6370000000000...|\n",
      "|               Trey|          Conigsby|          Poland|2013.840000000000...|          10|201.3840000000000...|\n",
      "|              Roxie|           Marqyes|            Iran|1747.740000000000...|          10|174.7740000000000...|\n",
      "|               Lacy|          Kilfeder|          Poland|2005.730000000000...|          10|200.5730000000000...|\n",
      "|          Clementia|             Crate|          Poland|2189.790000000000...|          10|218.9790000000000...|\n",
      "+-------------------+------------------+----------------+--------------------+------------+--------------------+\n",
      "only showing top 5 rows\n",
      "\n"
     ]
    }
   ],
   "source": [
    "print(\"Цель: Анализ покупательского поведения и сегментация клиентов.\")\n",
    "customer_report.show(5)"
   ]
  },
  {
   "cell_type": "code",
   "execution_count": 14,
   "id": "c99f154e-9494-4bdd-b20a-be9039ac8e71",
   "metadata": {},
   "outputs": [
    {
     "name": "stdout",
     "output_type": "stream",
     "text": [
      "\n",
      "===> ТОП-10 клиентов с наибольшей общей суммой покупок:\n",
      "+-------------------+------------------+----------------+--------------------+------------+--------------------+\n",
      "|customer_first_name|customer_last_name|customer_country|         total_spent|total_orders|     avg_order_value|\n",
      "+-------------------+------------------+----------------+--------------------+------------+--------------------+\n",
      "|               Mile|              Tuer|          Jordan|4005.980000000000...|          10|400.5980000000000...|\n",
      "|             Lewiss|           Pinshon|           China|3784.440000000000...|          10|378.4440000000000...|\n",
      "|             Alexis|           Quinton|           China|3751.090000000000...|          10|375.1090000000000...|\n",
      "|             Benita|           Godding|         Nigeria|3682.520000000000...|          10|368.2520000000000...|\n",
      "|             Elvira|         Faircliff|       Australia|3645.940000000000...|          10|364.5940000000000...|\n",
      "|          Shandeigh|         Thomassin|          France|3616.930000000000...|          10|361.6930000000000...|\n",
      "|             Lucien|             Slade|          Russia|3571.100000000000...|          10|357.1100000000000...|\n",
      "|               Swen|             Holah|           China|3548.860000000000...|          10|354.8860000000000...|\n",
      "|             Saleem|        Fitzsimons|          Greece|3546.420000000000...|          10|354.6420000000000...|\n",
      "|            Maureen|         Grollmann|           China|3537.040000000000...|          10|353.7040000000000...|\n",
      "+-------------------+------------------+----------------+--------------------+------------+--------------------+\n",
      "\n"
     ]
    }
   ],
   "source": [
    "print(\"\\n===> ТОП-10 клиентов с наибольшей общей суммой покупок:\")\n",
    "top_customers = customer_report.orderBy(desc(\"total_spent\")).limit(10)\n",
    "top_customers.show()"
   ]
  },
  {
   "cell_type": "code",
   "execution_count": 15,
   "id": "a1f91f45-2ac5-4e85-ab97-5a6d32effee5",
   "metadata": {},
   "outputs": [
    {
     "name": "stdout",
     "output_type": "stream",
     "text": [
      "\n",
      "===> Распределение клиентов по странам:\n",
      "+----------------+-------------+\n",
      "|customer_country|clients_count|\n",
      "+----------------+-------------+\n",
      "|            Chad|            1|\n",
      "|          Russia|           47|\n",
      "|           Yemen|            2|\n",
      "|          Sweden|           28|\n",
      "|     Philippines|           46|\n",
      "|        Malaysia|            5|\n",
      "|            Iraq|            1|\n",
      "|         Germany|            2|\n",
      "|         Comoros|            1|\n",
      "|        Cambodia|            1|\n",
      "|     Afghanistan|            1|\n",
      "|          Jordan|            3|\n",
      "|     Ivory Coast|            3|\n",
      "|           Sudan|            2|\n",
      "|          France|           35|\n",
      "|          Greece|           14|\n",
      "|          Kosovo|            1|\n",
      "|       Sri Lanka|            2|\n",
      "|          Taiwan|            1|\n",
      "|       Argentina|           10|\n",
      "+----------------+-------------+\n",
      "only showing top 20 rows\n",
      "\n"
     ]
    }
   ],
   "source": [
    "print(\"\\n===> Распределение клиентов по странам:\")\n",
    "country_distribution = customer_report.groupBy(\"customer_country\").agg(count(\"*\").alias(\"clients_count\"))\n",
    "country_distribution.show()"
   ]
  },
  {
   "cell_type": "code",
   "execution_count": 16,
   "id": "9a950347-2f7d-4216-9a29-bef25934a722",
   "metadata": {},
   "outputs": [
    {
     "name": "stdout",
     "output_type": "stream",
     "text": [
      "\n",
      "===> Средний чек для каждого клиента:\n",
      "+-------------------+------------------+--------------------+\n",
      "|customer_first_name|customer_last_name|     avg_order_value|\n",
      "+-------------------+------------------+--------------------+\n",
      "|           Charlene|           Topping|288.6370000000000...|\n",
      "|               Trey|          Conigsby|201.3840000000000...|\n",
      "|              Roxie|           Marqyes|174.7740000000000...|\n",
      "|               Lacy|          Kilfeder|200.5730000000000...|\n",
      "|          Clementia|             Crate|218.9790000000000...|\n",
      "|            Tristam|            Tandey|273.2890000000000...|\n",
      "|            Abelard|            Guyers|178.5970000000000...|\n",
      "|              Alfie|          Nannetti|256.6570000000000...|\n",
      "|          Rosalinde|        O'Hogertie|302.5140000000000...|\n",
      "|               Lyon|        Beverstock|225.2390000000000...|\n",
      "|               Dall|             Frear|272.1510000000000...|\n",
      "|              Rahel|          Thonason|249.1000000000000...|\n",
      "|             Dickie|            Somner|286.4550000000000...|\n",
      "|              Fiona|       Petrushanko|224.5990000000000...|\n",
      "|            Cointon|             Cavie|197.3200000000000...|\n",
      "|               Gail|           Stapele|239.8610000000000...|\n",
      "|           Carolann|            Drover|168.6440000000000...|\n",
      "|               June|         Greenwell|215.8140000000000...|\n",
      "|         Andromache|            Sebert|225.5470000000000...|\n",
      "|             Shayna|           Prebble|204.0240000000000...|\n",
      "+-------------------+------------------+--------------------+\n",
      "only showing top 20 rows\n",
      "\n"
     ]
    }
   ],
   "source": [
    "print(\"\\n===> Средний чек для каждого клиента:\")\n",
    "avg_check_per_customer = customer_report.select(\"customer_first_name\", \"customer_last_name\", \"avg_order_value\")\n",
    "avg_check_per_customer.show()"
   ]
  },
  {
   "cell_type": "code",
   "execution_count": 17,
   "id": "e3bb3f1e-40e9-4899-a45a-18a462006380",
   "metadata": {},
   "outputs": [
    {
     "name": "stdout",
     "output_type": "stream",
     "text": [
      "\n",
      "===> Витрина продаж по времени:\n",
      "Цель: Анализ сезонности и трендов продаж.\n",
      "+----+-----+--------------------+----------------+--------------------+\n",
      "|year|month|     monthly_revenue|total_items_sold|      avg_order_size|\n",
      "+----+-----+--------------------+----------------+--------------------+\n",
      "|2021|    1|224158.5400000000...|            4856|256.4743020594965...|\n",
      "|2021|    2|192348.3100000000...|            4070|260.2818809201623...|\n",
      "|2021|    3|207282.2000000000...|            4561|245.8863582443653...|\n",
      "|2021|    4|206592.8200000000...|            4564|246.8253524492234...|\n",
      "|2021|    5|211764.8600000000...|            4451|255.7546618357487...|\n",
      "+----+-----+--------------------+----------------+--------------------+\n",
      "only showing top 5 rows\n",
      "\n"
     ]
    }
   ],
   "source": [
    "print(\"\\n===> Витрина продаж по времени:\")\n",
    "time_report = fact_sales.alias(\"f\") \\\n",
    "    .join(dim_time.alias(\"t\"), \"time_id\") \\\n",
    "    .groupBy(\"t.year\", \"t.month\") \\\n",
    "    .agg(\n",
    "        sum(\"f.total_price\").alias(\"monthly_revenue\"),\n",
    "        sum(\"f.quantity\").alias(\"total_items_sold\"),\n",
    "        avg(\"f.total_price\").alias(\"avg_order_size\")\n",
    "    ).orderBy(\"t.year\", \"t.month\")\n",
    "print(\"Цель: Анализ сезонности и трендов продаж.\")\n",
    "time_report.show(5)"
   ]
  },
  {
   "cell_type": "code",
   "execution_count": 18,
   "id": "8c7724a8-9925-49a9-aa43-dd2955973d5e",
   "metadata": {},
   "outputs": [
    {
     "name": "stdout",
     "output_type": "stream",
     "text": [
      "\n",
      "===> Месячные и годовые тренды продаж:\n",
      "+----+--------------------+\n",
      "|year|      annual_revenue|\n",
      "+----+--------------------+\n",
      "|2021|2529852.120000000...|\n",
      "+----+--------------------+\n",
      "\n"
     ]
    }
   ],
   "source": [
    "print(\"\\n===> Месячные и годовые тренды продаж:\")\n",
    "yearly_trends = time_report.groupBy(\"year\").agg(sum(\"monthly_revenue\").alias(\"annual_revenue\"))\n",
    "yearly_trends.show()"
   ]
  },
  {
   "cell_type": "code",
   "execution_count": 19,
   "id": "21bc82ef-e3f8-4e75-915a-b6582cad22ec",
   "metadata": {},
   "outputs": [
    {
     "name": "stdout",
     "output_type": "stream",
     "text": [
      "\n",
      "===> Средний размер заказа по месяцам:\n",
      "+----+-----+--------------------+\n",
      "|year|month|      avg_order_size|\n",
      "+----+-----+--------------------+\n",
      "|2021|    1|256.4743020594965...|\n",
      "|2021|    2|260.2818809201623...|\n",
      "|2021|    3|245.8863582443653...|\n",
      "|2021|    4|246.8253524492234...|\n",
      "|2021|    5|255.7546618357487...|\n",
      "|2021|    6|261.6092457420924...|\n",
      "|2021|    7|256.9889393939393...|\n",
      "|2021|    8|246.6842586399108...|\n",
      "|2021|    9|251.0410369487485...|\n",
      "|2021|   10|256.4386995515695...|\n",
      "|2021|   11|249.8810112359550...|\n",
      "|2021|   12|248.5309870129870...|\n",
      "+----+-----+--------------------+\n",
      "\n"
     ]
    }
   ],
   "source": [
    "print(\"\\n===> Средний размер заказа по месяцам:\")\n",
    "avg_order_size_per_month = time_report.select(\"year\", \"month\", \"avg_order_size\")\n",
    "avg_order_size_per_month.show()"
   ]
  },
  {
   "cell_type": "code",
   "execution_count": 20,
   "id": "2fe9854f-8983-4e8e-9efd-2d75cfe80c01",
   "metadata": {},
   "outputs": [
    {
     "name": "stdout",
     "output_type": "stream",
     "text": [
      "\n",
      "===> Витрина продаж по магазинам:\n",
      "Цель: Анализ эффективности магазинов.\n",
      "+------------+-----------------+-------------+--------------------+------------+--------------------+\n",
      "|  store_name|       store_city|store_country|       total_revenue|orders_count|     avg_order_value|\n",
      "+------------+-----------------+-------------+--------------------+------------+--------------------+\n",
      "|Shuffledrive|Banjar Taro Kelod|        China|30.41000000000000...|           1|30.41000000000000...|\n",
      "|    Centidel|     Donggaohuang|       France|294.5300000000000...|           1|294.5300000000000...|\n",
      "|       Eabox|         Ureshino|       Angola|428.0000000000000...|           1|428.0000000000000...|\n",
      "|    Livepath|          Haljala|       Greece|288.5100000000000...|           1|288.5100000000000...|\n",
      "|       Lazzy|          Masākin|     Pakistan|138.3900000000000...|           1|138.3900000000000...|\n",
      "+------------+-----------------+-------------+--------------------+------------+--------------------+\n",
      "only showing top 5 rows\n",
      "\n"
     ]
    }
   ],
   "source": [
    "print(\"\\n===> Витрина продаж по магазинам:\")\n",
    "store_report = fact_sales.alias(\"f\") \\\n",
    "    .join(dim_store.alias(\"s\"), \"store_id\") \\\n",
    "    .groupBy(\"s.store_name\", \"s.store_city\", \"s.store_country\") \\\n",
    "    .agg(\n",
    "        sum(\"f.total_price\").alias(\"total_revenue\"),\n",
    "        count(\"*\").alias(\"orders_count\"),\n",
    "        avg(\"f.total_price\").alias(\"avg_order_value\")\n",
    "    )\n",
    "print(\"Цель: Анализ эффективности магазинов.\")\n",
    "store_report.show(5)"
   ]
  },
  {
   "cell_type": "code",
   "execution_count": 21,
   "id": "7eea3f56-f463-40f5-98df-2d8751e0fc30",
   "metadata": {},
   "outputs": [
    {
     "name": "stdout",
     "output_type": "stream",
     "text": [
      "\n",
      "===> ТОП-5 магазинов с наибольшей выручкой:\n",
      "+------------+-------------------+-------------+--------------------+------------+--------------------+\n",
      "|  store_name|         store_city|store_country|       total_revenue|orders_count|     avg_order_value|\n",
      "+------------+-------------------+-------------+--------------------+------------+--------------------+\n",
      "|    Feedspan|             Monywa|      Ukraine|1317.200000000000...|           3|439.0666666666666...|\n",
      "|      Demizz|              Ranot|       Mexico|1212.270000000000...|           4|303.0675000000000...|\n",
      "|       Quatz|            Kasungu|    Indonesia|1197.640000000000...|           5|239.5280000000000...|\n",
      "|     Rhycero|Saint-Jean-de-Braye|       Poland|1069.750000000000...|           3|356.5833333333333...|\n",
      "|Twitterworks|             Iecava|    Argentina|1005.190000000000...|           3|335.0633333333333...|\n",
      "+------------+-------------------+-------------+--------------------+------------+--------------------+\n",
      "\n"
     ]
    }
   ],
   "source": [
    "print(\"\\n===> ТОП-5 магазинов с наибольшей выручкой:\")\n",
    "top_stores = store_report.orderBy(desc(\"total_revenue\")).limit(5)\n",
    "top_stores.show()"
   ]
  },
  {
   "cell_type": "code",
   "execution_count": 22,
   "id": "197709ec-8246-4439-bd81-150d56e036fd",
   "metadata": {},
   "outputs": [
    {
     "name": "stdout",
     "output_type": "stream",
     "text": [
      "\n",
      "===> Распределение продаж по городам и странам:\n",
      "+-------------------+-------------+--------------------+\n",
      "|         store_city|store_country|       total_revenue|\n",
      "+-------------------+-------------+--------------------+\n",
      "|        Al Jubayhah|  Philippines|266.2700000000000...|\n",
      "|            Wangren|    Indonesia|481.2800000000000...|\n",
      "|       Kohtla-Järve|        China|409.3000000000000...|\n",
      "|           Yanjiang|         Peru|177.9700000000000...|\n",
      "|            Baidian|      Finland|146.4900000000000...|\n",
      "|            Golacir|     Thailand|390.4600000000000...|\n",
      "|               Mary|        Spain|462.8900000000000...|\n",
      "|              Baras|     Thailand|122.0500000000000...|\n",
      "|             Dongpu|        China|493.1700000000000...|\n",
      "|         Champerico|     Portugal|487.9000000000000...|\n",
      "|           Nanggela|     Thailand|322.3300000000000...|\n",
      "|             Linshi|United States|56.76000000000000...|\n",
      "|            Kherson|       Sweden|495.9400000000000...|\n",
      "|            Xundian|     Colombia|333.5100000000000...|\n",
      "|       Tytuvėnėliai|        China|233.9300000000000...|\n",
      "|               Caen|       Canada|476.1400000000000...|\n",
      "|Costa de Rios Frios|        Japan|390.1000000000000...|\n",
      "|         Tolotangga|        China|45.53000000000000...|\n",
      "|            Gagarin|  Afghanistan|131.3400000000000...|\n",
      "|    Lazaro Cardenas|     Portugal|228.4400000000000...|\n",
      "+-------------------+-------------+--------------------+\n",
      "only showing top 20 rows\n",
      "\n"
     ]
    }
   ],
   "source": [
    "print(\"\\n===> Распределение продаж по городам и странам:\")\n",
    "store_distribution = store_report.groupBy(\"store_city\", \"store_country\").agg(sum(\"total_revenue\").alias(\"total_revenue\"))\n",
    "store_distribution.show()"
   ]
  },
  {
   "cell_type": "code",
   "execution_count": 23,
   "id": "da28ca16-3bf9-4951-b4e4-d70deadc1e01",
   "metadata": {},
   "outputs": [
    {
     "name": "stdout",
     "output_type": "stream",
     "text": [
      "\n",
      "===> Средний чек для каждого магазина:\n",
      "+-------------+--------------------+\n",
      "|   store_name|     avg_order_value|\n",
      "+-------------+--------------------+\n",
      "| Shuffledrive|30.41000000000000...|\n",
      "|     Centidel|294.5300000000000...|\n",
      "|        Eabox|428.0000000000000...|\n",
      "|     Livepath|288.5100000000000...|\n",
      "|        Lazzy|138.3900000000000...|\n",
      "|        Quinu|56.21000000000000...|\n",
      "|     Flashdog|331.7100000000000...|\n",
      "|         Yodo|340.0800000000000...|\n",
      "|        Quatz|129.0500000000000...|\n",
      "|        Janyx|58.69000000000000...|\n",
      "|    Topicblab|366.1400000000000...|\n",
      "|        Kimia|69.25000000000000...|\n",
      "|       Wikivu|198.6100000000000...|\n",
      "|      Teklist|159.1000000000000...|\n",
      "|       Meedoo|425.1800000000000...|\n",
      "|        Aimbo|296.9000000000000...|\n",
      "|        Voomm|186.9700000000000...|\n",
      "|        Janyx|84.91000000000000...|\n",
      "|       Wikivu|365.6000000000000...|\n",
      "|Thoughtsphere|84.54000000000000...|\n",
      "+-------------+--------------------+\n",
      "only showing top 20 rows\n",
      "\n"
     ]
    }
   ],
   "source": [
    "print(\"\\n===> Средний чек для каждого магазина:\")\n",
    "avg_check_per_store = store_report.select(\"store_name\", \"avg_order_value\")\n",
    "avg_check_per_store.show()"
   ]
  },
  {
   "cell_type": "code",
   "execution_count": 24,
   "id": "45a9d8d2-e903-4a73-a8f0-58e75789cd33",
   "metadata": {},
   "outputs": [
    {
     "name": "stdout",
     "output_type": "stream",
     "text": [
      "\n",
      "===> Витрина продаж по поставщикам:\n",
      "Цель: Анализ эффективности поставщиков.\n",
      "+-------------+----------------+--------------------+--------------------+\n",
      "|supplier_name|supplier_country|       total_revenue|   avg_product_price|\n",
      "+-------------+----------------+--------------------+--------------------+\n",
      "|   Zoomlounge|           China|220.9000000000000...|220.9000000000000...|\n",
      "|        InnoZ|        Colombia|123.5200000000000...|123.5200000000000...|\n",
      "|     Realfire|           Japan|1043.170000000000...|347.7233333333333...|\n",
      "|     Topdrive|          Sweden|2334.640000000000...|291.8300000000000...|\n",
      "|        Rooxo|        Pakistan|1419.670000000000...|473.2233333333333...|\n",
      "+-------------+----------------+--------------------+--------------------+\n",
      "only showing top 5 rows\n",
      "\n"
     ]
    }
   ],
   "source": [
    "print(\"\\n===> Витрина продаж по поставщикам:\")\n",
    "supplier_report = fact_sales.alias(\"f\") \\\n",
    "    .join(dim_supplier.alias(\"sup\"), \"supplier_id\") \\\n",
    "    .groupBy(\"sup.supplier_name\", \"sup.supplier_country\") \\\n",
    "    .agg(\n",
    "        sum(\"f.total_price\").alias(\"total_revenue\"),\n",
    "        avg(\"f.total_price\").alias(\"avg_product_price\")\n",
    "    )\n",
    "print(\"Цель: Анализ эффективности поставщиков.\")\n",
    "supplier_report.show(5)"
   ]
  },
  {
   "cell_type": "code",
   "execution_count": 25,
   "id": "510e38d8-0fc0-47e8-a286-fa38470ee1e7",
   "metadata": {},
   "outputs": [
    {
     "name": "stdout",
     "output_type": "stream",
     "text": [
      "\n",
      "===> ТОП-5 поставщиков с наибольшей выручкой:\n",
      "+-------------+----------------+--------------------+--------------------+\n",
      "|supplier_name|supplier_country|       total_revenue|   avg_product_price|\n",
      "+-------------+----------------+--------------------+--------------------+\n",
      "|        Twimm|    Burkina Faso|4955.940000000000...|353.9957142857142...|\n",
      "|       Trudeo|         Morocco|3944.050000000000...|262.9366666666666...|\n",
      "|  Brainlounge|          Panama|3684.540000000000...|263.1814285714285...|\n",
      "|      Myworks|         Nigeria|3642.770000000000...|331.1609090909090...|\n",
      "|        Vidoo|      Bangladesh|3336.920000000000...|303.3563636363636...|\n",
      "+-------------+----------------+--------------------+--------------------+\n",
      "\n"
     ]
    }
   ],
   "source": [
    "print(\"\\n===> ТОП-5 поставщиков с наибольшей выручкой:\")\n",
    "top_suppliers = supplier_report.orderBy(desc(\"total_revenue\")).limit(5)\n",
    "top_suppliers.show()\n"
   ]
  },
  {
   "cell_type": "code",
   "execution_count": 26,
   "id": "1bd20cf1-fd2f-4305-b8a4-2c36f835cf16",
   "metadata": {},
   "outputs": [
    {
     "name": "stdout",
     "output_type": "stream",
     "text": [
      "\n",
      "===> Средняя цена товаров от каждого поставщика:\n",
      "+-------------+--------------------+\n",
      "|supplier_name|   avg_product_price|\n",
      "+-------------+--------------------+\n",
      "|   Zoomlounge|220.9000000000000...|\n",
      "|        InnoZ|123.5200000000000...|\n",
      "|     Realfire|347.7233333333333...|\n",
      "|     Topdrive|291.8300000000000...|\n",
      "|        Rooxo|473.2233333333333...|\n",
      "|         Lajo|315.0100000000000...|\n",
      "|        Minyx|367.7800000000000...|\n",
      "|Twitternation|129.8400000000000...|\n",
      "|      Youspan|309.9733333333333...|\n",
      "|      Trilith|152.5500000000000...|\n",
      "|     Gigazoom|127.0600000000000...|\n",
      "|        Jazzy|123.0200000000000...|\n",
      "|  Twitterlist|78.78000000000000...|\n",
      "|         Kazu|488.9800000000000...|\n",
      "|    Zoonoodle|451.3100000000000...|\n",
      "|     Edgeclub|285.5600000000000...|\n",
      "|       Zoozzy|38.54000000000000...|\n",
      "|      Teklist|270.8200000000000...|\n",
      "|       Skivee|478.6000000000000...|\n",
      "|        Quaxo|367.4475000000000...|\n",
      "+-------------+--------------------+\n",
      "only showing top 20 rows\n",
      "\n"
     ]
    }
   ],
   "source": [
    "print(\"\\n===> Средняя цена товаров от каждого поставщика:\")\n",
    "avg_price_per_supplier = supplier_report.select(\"supplier_name\", \"avg_product_price\")\n",
    "avg_price_per_supplier.show()"
   ]
  },
  {
   "cell_type": "code",
   "execution_count": 27,
   "id": "13c01cb1-d80b-4883-96e8-c31626217bcb",
   "metadata": {},
   "outputs": [
    {
     "name": "stdout",
     "output_type": "stream",
     "text": [
      "\n",
      "===> Распределение продаж по странам поставщиков:\n",
      "+--------------------+--------------------+\n",
      "|    supplier_country|       total_revenue|\n",
      "+--------------------+--------------------+\n",
      "|                Chad|2078.750000000000...|\n",
      "|              Russia|126255.9700000000...|\n",
      "|            Paraguay|4269.170000000000...|\n",
      "|               Yemen|14888.24000000000...|\n",
      "|             Senegal|3749.030000000000...|\n",
      "|              Sweden|70407.66000000000...|\n",
      "|             Tokelau|461.8200000000000...|\n",
      "|            Kiribati|63.29000000000000...|\n",
      "|French Southern T...|217.3000000000000...|\n",
      "|              Guyana|937.5700000000000...|\n",
      "|         Philippines|118749.1900000000...|\n",
      "|             Eritrea|694.4000000000000...|\n",
      "|               Tonga|1206.200000000000...|\n",
      "|            Djibouti|440.6100000000000...|\n",
      "|            Malaysia|23295.03000000000...|\n",
      "|                Fiji|231.8700000000000...|\n",
      "|              Turkey|418.4100000000000...|\n",
      "|              Malawi|4251.400000000000...|\n",
      "|                Iraq|4356.830000000000...|\n",
      "|             Germany|12456.52000000000...|\n",
      "+--------------------+--------------------+\n",
      "only showing top 20 rows\n",
      "\n"
     ]
    }
   ],
   "source": [
    "print(\"\\n===> Распределение продаж по странам поставщиков:\")\n",
    "supplier_distribution = supplier_report.groupBy(\"supplier_country\").agg(sum(\"total_revenue\").alias(\"total_revenue\"))\n",
    "supplier_distribution.show()"
   ]
  },
  {
   "cell_type": "code",
   "execution_count": 28,
   "id": "ed7f9d9f-9301-47f1-8e33-cc43fc2c4fda",
   "metadata": {},
   "outputs": [
    {
     "name": "stdout",
     "output_type": "stream",
     "text": [
      "\n",
      "===> Витрина качества продукции:\n",
      "Цель: Анализ отзывов и рейтингов товаров.\n",
      "+----------------+--------------------+----------------------+\n",
      "|product_category| avg_category_rating|total_category_reviews|\n",
      "+----------------+--------------------+----------------------+\n",
      "|            Cage|3.057611940298507...|                159754|\n",
      "|            Food|2.991212121212121...|                170116|\n",
      "|             Toy|3.077611940298507...|                167738|\n",
      "+----------------+--------------------+----------------------+\n",
      "\n"
     ]
    }
   ],
   "source": [
    "print(\"\\n===> Витрина качества продукции:\")\n",
    "quality_report = dim_product.groupBy(\"product_category\") \\\n",
    "    .agg(\n",
    "        avg(\"product_rating\").alias(\"avg_category_rating\"),\n",
    "        sum(\"product_reviews\").alias(\"total_category_reviews\")\n",
    "    )\n",
    "print(\"Цель: Анализ отзывов и рейтингов товаров.\")\n",
    "quality_report.show(3)\n"
   ]
  },
  {
   "cell_type": "code",
   "execution_count": 29,
   "id": "cc1b1737-9bf1-4d71-80e7-d25fbc31cf04",
   "metadata": {},
   "outputs": [
    {
     "name": "stdout",
     "output_type": "stream",
     "text": [
      "\n",
      "===> Продукты с наивысшим и наименьшим рейтингом:\n",
      "+----------+------------+----------------+--------------------+--------------------+-------------+------------+-------------+----------------+--------------------+--------------------+---------------+--------------------+-------------------+\n",
      "|product_id|product_name|product_category|       product_price|      product_weight|product_color|product_size|product_brand|product_material| product_description|      product_rating|product_reviews|product_release_date|product_expiry_date|\n",
      "+----------+------------+----------------+--------------------+--------------------+-------------+------------+-------------+----------------+--------------------+--------------------+---------------+--------------------+-------------------+\n",
      "|       182|    Dog Food|             Toy|57.85000000000000...|18.40000000000000...|       Purple|       Small|     Tanoodle|           Brass|Praesent blandit....|5.000000000000000000|             24|          2019-04-08|         2026-08-31|\n",
      "|       851|   Bird Cage|             Toy|10.61000000000000...|29.60000000000000...|       Orange|       Large|      Bluejam|          Rubber|Suspendisse poten...|5.000000000000000000|            537|          2017-05-22|         2028-05-05|\n",
      "|       607|    Dog Food|            Cage|64.46000000000000...|18.20000000000000...|          Red|      Medium|       Skimia|      Plexiglass|Fusce consequat. ...|5.000000000000000000|             48|          2017-07-01|         2024-09-02|\n",
      "|        91|    Dog Food|             Toy|32.84000000000000...|49.60000000000000...|          Red|       Small|       Skyndu|          Rubber|Aenean lectus. Pe...|5.000000000000000000|            328|          2020-05-04|         2024-10-09|\n",
      "|       622|     Cat Toy|             Toy|37.62000000000000...|24.00000000000000...|         Puce|       Large|        Zazio|           Stone|Cras non velit ne...|5.000000000000000000|            512|          2018-06-15|         2026-02-02|\n",
      "+----------+------------+----------------+--------------------+--------------------+-------------+------------+-------------+----------------+--------------------+--------------------+---------------+--------------------+-------------------+\n",
      "\n"
     ]
    }
   ],
   "source": [
    "print(\"\\n===> Продукты с наивысшим и наименьшим рейтингом:\")\n",
    "highest_lowest_ratings = dim_product.sort(desc(\"product_rating\")).limit(5)\n",
    "highest_lowest_ratings.show()"
   ]
  },
  {
   "cell_type": "code",
   "execution_count": 30,
   "id": "32415b25-28dc-4701-bd68-10a40389d8d2",
   "metadata": {},
   "outputs": [
    {
     "name": "stdout",
     "output_type": "stream",
     "text": [
      "\n",
      "===> Корреляция между рейтингом и объемом продаж:\n",
      "Корреляция рейтинга и количества отзывов: 0.011\n"
     ]
    }
   ],
   "source": [
    "print(\"\\n===> Корреляция между рейтингом и объемом продаж:\")\n",
    "correlation = dim_product.corr(\"product_rating\", \"product_reviews\")\n",
    "print(f\"Корреляция рейтинга и количества отзывов: {correlation:.3f}\")"
   ]
  },
  {
   "cell_type": "code",
   "execution_count": 31,
   "id": "e996780d-d0a4-4c55-ad9a-3744e13286a2",
   "metadata": {},
   "outputs": [
    {
     "name": "stdout",
     "output_type": "stream",
     "text": [
      "\n",
      "===> Продукты с наибольшим количеством отзывов:\n",
      "+----------+------------+----------------+--------------------+--------------------+-------------+------------+-------------+----------------+--------------------+--------------------+---------------+--------------------+-------------------+\n",
      "|product_id|product_name|product_category|       product_price|      product_weight|product_color|product_size|product_brand|product_material| product_description|      product_rating|product_reviews|product_release_date|product_expiry_date|\n",
      "+----------+------------+----------------+--------------------+--------------------+-------------+------------+-------------+----------------+--------------------+--------------------+---------------+--------------------+-------------------+\n",
      "|       732|   Bird Cage|            Food|55.84000000000000...|25.40000000000000...|       Orange|      Medium|       Rhyloo|         Granite|Nulla ut erat id ...|4.000000000000000000|           1000|          2014-10-18|         2030-07-03|\n",
      "|       874|    Dog Food|            Food|44.90000000000000...|49.10000000000000...|       Purple|       Small|     Gigaclub|           Steel|Maecenas leo odio...|1.700000000000000000|           1000|          2017-12-09|         2028-06-29|\n",
      "|       464|   Bird Cage|            Food|77.00000000000000...|33.50000000000000...|       Yellow|      Medium|       Tambee|           Stone|Suspendisse poten...|1.700000000000000000|            999|          2017-01-20|         2024-12-27|\n",
      "|       179|    Dog Food|            Food|54.71000000000000...|7.900000000000000000|       Purple|       Small|        Kwinu|         Granite|Morbi porttitor l...|1.800000000000000000|            998|          2021-08-08|         2026-06-17|\n",
      "|       526|   Bird Cage|            Cage|56.08000000000000...|15.00000000000000...|       Yellow|      Medium|     Bluezoom|            Wood|Donec diam neque,...|2.500000000000000000|            996|          2018-04-21|         2030-07-04|\n",
      "+----------+------------+----------------+--------------------+--------------------+-------------+------------+-------------+----------------+--------------------+--------------------+---------------+--------------------+-------------------+\n",
      "\n"
     ]
    }
   ],
   "source": [
    "print(\"\\n===> Продукты с наибольшим количеством отзывов:\")\n",
    "most_reviewed_products = dim_product.orderBy(desc(\"product_reviews\")).limit(5)\n",
    "most_reviewed_products.show()\n"
   ]
  },
  {
   "cell_type": "code",
   "execution_count": 32,
   "id": "b0460c61-1359-4db5-8d29-e184684cf8df",
   "metadata": {},
   "outputs": [],
   "source": [
    "\n",
    "# Список отчётов\n",
    "reports = {\n",
    "    \"product_sales_mart\": product_report,\n",
    "    \"top_products\": top_products,\n",
    "    \"time_sales_mart\": time_report,\n",
    "    \"customer_sales_mart\": customer_report,\n",
    "    \"store_sales_mart\": store_report,\n",
    "    \"supplier_sales_mart\": supplier_report,\n",
    "    \"product_quality_mart\": quality_report\n",
    "}\n"
   ]
  },
  {
   "cell_type": "code",
   "execution_count": 33,
   "id": "96b8f58b-0c6b-496d-a645-ef768a5cad6d",
   "metadata": {},
   "outputs": [],
   "source": [
    "for table_name, df in reports.items():\n",
    "    engine = \"MergeTree() ORDER BY tuple()\"\n",
    "    \n",
    "    if table_name in [\"product_quality_mart\"]:\n",
    "        engine = \"TinyLog()\"\n",
    "    \n",
    "    df.write \\\n",
    "        .format(\"jdbc\") \\\n",
    "        .option(\"url\", clickhouse_url) \\\n",
    "        .option(\"dbtable\", table_name) \\\n",
    "        .option(\"driver\", \"com.clickhouse.jdbc.ClickHouseDriver\") \\\n",
    "        .option(\"createTableOptions\", f\"ENGINE = {engine}\") \\\n",
    "        .mode(\"overwrite\") \\\n",
    "        .save()"
   ]
  },
  {
   "cell_type": "code",
   "execution_count": null,
   "id": "200048a4-08f6-4228-ba81-fd89718eecfc",
   "metadata": {},
   "outputs": [],
   "source": []
  }
 ],
 "metadata": {
  "kernelspec": {
   "display_name": "Python 3 (ipykernel)",
   "language": "python",
   "name": "python3"
  },
  "language_info": {
   "codemirror_mode": {
    "name": "ipython",
    "version": 3
   },
   "file_extension": ".py",
   "mimetype": "text/x-python",
   "name": "python",
   "nbconvert_exporter": "python",
   "pygments_lexer": "ipython3",
   "version": "3.11.6"
  }
 },
 "nbformat": 4,
 "nbformat_minor": 5
}
