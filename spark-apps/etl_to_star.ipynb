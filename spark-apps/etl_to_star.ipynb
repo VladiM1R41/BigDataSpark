{
 "cells": [
  {
   "cell_type": "code",
   "execution_count": 1,
   "id": "4d27d04c-b5a3-4aae-8aed-fb9cc0723d67",
   "metadata": {},
   "outputs": [],
   "source": [
    "from pyspark.sql import SparkSession\n",
    "from pyspark.sql import functions as F"
   ]
  },
  {
   "cell_type": "code",
   "execution_count": 2,
   "id": "308d9b3d-a008-46dd-a66b-c899b3325eaf",
   "metadata": {},
   "outputs": [],
   "source": [
    "spark = SparkSession.builder \\\n",
    "    .appName(\"ETL to Star Schema\") \\\n",
    "    .config(\"spark.jars\", \"/home/jovyan/jars/postgresql-42.7.3.jar\") \\\n",
    "    .getOrCreate()\n"
   ]
  },
  {
   "cell_type": "code",
   "execution_count": 3,
   "id": "f9743d7e-63ec-4398-9a56-3cdcf3f9d761",
   "metadata": {},
   "outputs": [],
   "source": [
    "jdbc_url = \"jdbc:postgresql://bigdata_postgres:5432/pet_sales\"\n",
    "connection_properties = {\n",
    "    \"user\": \"lab_user\",\n",
    "    \"password\": \"lab_password\",\n",
    "    \"driver\": \"org.postgresql.Driver\"\n",
    "}\n"
   ]
  },
  {
   "cell_type": "code",
   "execution_count": 4,
   "id": "960285af-ab58-4e3b-9414-090dac9cceb1",
   "metadata": {},
   "outputs": [],
   "source": [
    "df = spark.read.jdbc(\n",
    "        url=jdbc_url,\n",
    "        table=\"mock_data\",\n",
    "        properties=connection_properties\n",
    "    )\n",
    "\n",
    "df = df.withColumn(\"sale_id\", F.monotonically_increasing_id())"
   ]
  },
  {
   "cell_type": "code",
   "execution_count": 5,
   "id": "7aa51876-6ca7-427a-885b-a3bc5913d9b7",
   "metadata": {},
   "outputs": [],
   "source": [
    "dim_customer = df.groupBy(\"sale_customer_id\").agg(\n",
    "        F.first(\"customer_first_name\").alias(\"customer_first_name\"),\n",
    "        F.first(\"customer_last_name\").alias(\"customer_last_name\"),\n",
    "        F.first(\"customer_age\").alias(\"customer_age\"),\n",
    "        F.first(\"customer_email\").alias(\"customer_email\"),\n",
    "        F.first(\"customer_country\").alias(\"customer_country\"),\n",
    "        F.first(\"customer_postal_code\").alias(\"customer_postal_code\"),\n",
    "        F.first(\"customer_pet_type\").alias(\"customer_pet_type\"),\n",
    "        F.first(\"customer_pet_name\").alias(\"customer_pet_name\"),\n",
    "        F.first(\"customer_pet_breed\").alias(\"customer_pet_breed\")\n",
    "    ).withColumnRenamed(\"sale_customer_id\", \"customer_id\")"
   ]
  },
  {
   "cell_type": "code",
   "execution_count": 6,
   "id": "4e334ed9-0adf-47dd-88d7-555391ae154d",
   "metadata": {},
   "outputs": [
    {
     "name": "stdout",
     "output_type": "stream",
     "text": [
      "+-----------+-------------------+------------------+------------+---------------------+----------------+--------------------+-----------------+-----------------+------------------+\n",
      "|customer_id|customer_first_name|customer_last_name|customer_age|customer_email       |customer_country|customer_postal_code|customer_pet_type|customer_pet_name|customer_pet_breed|\n",
      "+-----------+-------------------+------------------+------------+---------------------+----------------+--------------------+-----------------+-----------------+------------------+\n",
      "|1          |Barron             |Rawlyns           |61          |bmassingham0@army.mil|China           |NULL                |cat              |Priscella        |Labrador Retriever|\n",
      "|2          |Ham                |Knowller          |78          |cscudder1@time.com   |Poland          |73-115              |bird             |Dalenna          |Labrador Retriever|\n",
      "|3          |Farleigh           |Langley           |71          |vhuxter2@fotki.com   |Poland          |56-160              |bird             |Aldridge         |Parakeet          |\n",
      "+-----------+-------------------+------------------+------------+---------------------+----------------+--------------------+-----------------+-----------------+------------------+\n",
      "only showing top 3 rows\n",
      "\n"
     ]
    }
   ],
   "source": [
    "dim_customer.show(n=3, truncate=False)"
   ]
  },
  {
   "cell_type": "code",
   "execution_count": 7,
   "id": "ce4eb1fe-420d-4ada-b71b-9f2f95623fd7",
   "metadata": {},
   "outputs": [],
   "source": [
    "dim_product = df.groupBy(\"sale_product_id\").agg(\n",
    "        F.first(\"product_name\").alias(\"product_name\"),\n",
    "        F.first(\"product_category\").alias(\"product_category\"),\n",
    "        F.first(\"product_price\").alias(\"product_price\"),\n",
    "        F.first(\"product_weight\").alias(\"product_weight\"),\n",
    "        F.first(\"product_color\").alias(\"product_color\"),\n",
    "        F.first(\"product_size\").alias(\"product_size\"),\n",
    "        F.first(\"product_brand\").alias(\"product_brand\"),\n",
    "        F.first(\"product_material\").alias(\"product_material\"),\n",
    "        F.first(\"product_description\").alias(\"product_description\"),\n",
    "        F.first(\"product_rating\").alias(\"product_rating\"),\n",
    "        F.first(\"product_reviews\").alias(\"product_reviews\"),\n",
    "        F.first(\"product_release_date\").alias(\"product_release_date\"),\n",
    "        F.first(\"product_expiry_date\").alias(\"product_expiry_date\")\n",
    "    ).withColumnRenamed(\"sale_product_id\", \"product_id\")"
   ]
  },
  {
   "cell_type": "code",
   "execution_count": 8,
   "id": "04fc02b7-a1a3-4fa0-b541-9f14dc95b6e7",
   "metadata": {},
   "outputs": [
    {
     "name": "stdout",
     "output_type": "stream",
     "text": [
      "+----------+------------+----------------+---------------------+---------------------+-------------+------------+-------------+----------------+----------------------------------------------------------------------------------------------------------------------------------------------------------------------------------------------------------------------------------------------------------------------------------------------------------------------------------------------------------------------------------------------------------------------------------------------------------------------------------------------+--------------------+---------------+--------------------+-------------------+\n",
      "|product_id|product_name|product_category|product_price        |product_weight       |product_color|product_size|product_brand|product_material|product_description                                                                                                                                                                                                                                                                                                                                                                                                                                                                           |product_rating      |product_reviews|product_release_date|product_expiry_date|\n",
      "+----------+------------+----------------+---------------------+---------------------+-------------+------------+-------------+----------------+----------------------------------------------------------------------------------------------------------------------------------------------------------------------------------------------------------------------------------------------------------------------------------------------------------------------------------------------------------------------------------------------------------------------------------------------------------------------------------------------+--------------------+---------------+--------------------+-------------------+\n",
      "|1         |Dog Food    |Food            |77.970000000000000000|13.400000000000000000|Indigo       |Medium      |Skajo        |Steel           |Aliquam quis turpis eget elit sodales scelerisque. Mauris sit amet eros. Suspendisse accumsan tortor quis turpis.\\r\\n\\r\\nSed ante. Vivamus tortor. Duis mattis egestas metus.                                                                                                                                                                                                                                                                                                                 |2.100000000000000000|97             |2011-10-19          |2028-10-21         |\n",
      "|2         |Cat Toy     |Food            |48.700000000000000000|36.300000000000000000|Khaki        |Small       |Wordpedia    |Plexiglass      |Phasellus in felis. Donec semper sapien a libero. Nam dui.                                                                                                                                                                                                                                                                                                                                                                                                                                    |2.400000000000000000|37             |2019-04-17          |2028-02-29         |\n",
      "|3         |Bird Cage   |Food            |77.750000000000000000|14.600000000000000000|Khaki        |Medium      |Riffpedia    |Plexiglass      |Maecenas leo odio, condimentum id, luctus nec, molestie sed, justo. Pellentesque viverra pede ac diam. Cras pellentesque volutpat dui.\\r\\n\\r\\nMaecenas tristique, est et tempus semper, est quam pharetra magna, ac consequat metus sapien ut nunc. Vestibulum ante ipsum primis in faucibus orci luctus et ultrices posuere cubilia Curae; Mauris viverra diam vitae quam. Suspendisse potenti.\\r\\n\\r\\nNullam porttitor lacus at turpis. Donec posuere metus vitae ipsum. Aliquam non mauris.|3.000000000000000000|218            |2010-02-03          |2023-09-03         |\n",
      "+----------+------------+----------------+---------------------+---------------------+-------------+------------+-------------+----------------+----------------------------------------------------------------------------------------------------------------------------------------------------------------------------------------------------------------------------------------------------------------------------------------------------------------------------------------------------------------------------------------------------------------------------------------------------------------------------------------------+--------------------+---------------+--------------------+-------------------+\n",
      "only showing top 3 rows\n",
      "\n"
     ]
    }
   ],
   "source": [
    "dim_product.show(n=3, truncate=False)"
   ]
  },
  {
   "cell_type": "code",
   "execution_count": 9,
   "id": "88fa781a-7c4b-43f0-91cf-1623d35b3875",
   "metadata": {},
   "outputs": [],
   "source": [
    "dim_time = df.select(\n",
    "        F.col(\"sale_date\").alias(\"date\")\n",
    "    ).distinct().withColumn(\"time_id\", F.monotonically_increasing_id())\n",
    "\n",
    "dim_time = dim_time.withColumn(\"year\", F.year(\"date\")).withColumn(\"month\", F.month(\"date\")).withColumn(\"day\", F.dayofmonth(\"date\")).withColumn(\"quarter\", F.quarter(\"date\")).withColumn(\"dow\", F.dayofweek(\"date\"))\n"
   ]
  },
  {
   "cell_type": "code",
   "execution_count": 10,
   "id": "6ac5e394-7e9f-47d9-97ef-20c4a87ed363",
   "metadata": {},
   "outputs": [
    {
     "name": "stdout",
     "output_type": "stream",
     "text": [
      "+----------+-------+----+-----+---+-------+---+\n",
      "|date      |time_id|year|month|day|quarter|dow|\n",
      "+----------+-------+----+-----+---+-------+---+\n",
      "|2021-11-13|0      |2021|11   |13 |4      |7  |\n",
      "|2021-12-18|1      |2021|12   |18 |4      |7  |\n",
      "|2021-08-27|2      |2021|8    |27 |3      |6  |\n",
      "+----------+-------+----+-----+---+-------+---+\n",
      "only showing top 3 rows\n",
      "\n"
     ]
    }
   ],
   "source": [
    "dim_time.show(n=3, truncate=False)"
   ]
  },
  {
   "cell_type": "code",
   "execution_count": 11,
   "id": "67a0e55b-a388-4937-be56-3ce6b0d96206",
   "metadata": {},
   "outputs": [],
   "source": [
    "dim_store = df.groupBy(\"store_name\", \"store_location\").agg(\n",
    "        F.first(\"store_city\").alias(\"store_city\"),\n",
    "        F.first(\"store_state\").alias(\"store_state\"),\n",
    "        F.first(\"store_country\").alias(\"store_country\"),\n",
    "        F.first(\"store_phone\").alias(\"store_phone\"),\n",
    "        F.first(\"store_email\").alias(\"store_email\")\n",
    "    ).withColumn(\"store_id\", F.monotonically_increasing_id())\n"
   ]
  },
  {
   "cell_type": "code",
   "execution_count": 12,
   "id": "c53cf425-fe76-496c-a3db-1cd29b8e0310",
   "metadata": {},
   "outputs": [
    {
     "name": "stdout",
     "output_type": "stream",
     "text": [
      "+----------+--------------+-----------+-----------+-------------+------------+-----------------------+--------+\n",
      "|store_name|store_location|store_city |store_state|store_country|store_phone |store_email            |store_id|\n",
      "+----------+--------------+-----------+-----------+-------------+------------+-----------------------+--------+\n",
      "|Abata     |11th Floor    |Ibiúna     |NULL       |Montenegro   |660-676-5491|cchevisp5@npr.org      |0       |\n",
      "|Abata     |12th Floor    |San Vicente|NULL       |Argentina    |230-952-8959|lgoodacregs@vinaora.com|1       |\n",
      "|Abata     |14th Floor    |Norsborg   |AB         |Portugal     |155-350-7386|shanshaw8h@sfgate.com  |2       |\n",
      "+----------+--------------+-----------+-----------+-------------+------------+-----------------------+--------+\n",
      "only showing top 3 rows\n",
      "\n"
     ]
    }
   ],
   "source": [
    "dim_store.show(n=3, truncate=False)"
   ]
  },
  {
   "cell_type": "code",
   "execution_count": 13,
   "id": "cf3b26f0-50ac-474f-81e2-4b4a10ced29b",
   "metadata": {},
   "outputs": [],
   "source": [
    "dim_supplier = df.groupBy(\"supplier_name\", \"supplier_country\").agg(\n",
    "        F.first(\"supplier_contact\").alias(\"supplier_contact\"),\n",
    "        F.first(\"supplier_email\").alias(\"supplier_email\"),\n",
    "        F.first(\"supplier_phone\").alias(\"supplier_phone\"),\n",
    "        F.first(\"supplier_address\").alias(\"supplier_address\"),\n",
    "        F.first(\"supplier_city\").alias(\"supplier_city\")\n",
    "    ).withColumn(\"supplier_id\", F.monotonically_increasing_id())\n"
   ]
  },
  {
   "cell_type": "code",
   "execution_count": 14,
   "id": "691d0509-ef8f-4615-8f81-ded2c861e8c3",
   "metadata": {},
   "outputs": [
    {
     "name": "stdout",
     "output_type": "stream",
     "text": [
      "+-------------+----------------+----------------+-------------------------+--------------+----------------+------------------+-----------+\n",
      "|supplier_name|supplier_country|supplier_contact|supplier_email           |supplier_phone|supplier_address|supplier_city     |supplier_id|\n",
      "+-------------+----------------+----------------+-------------------------+--------------+----------------+------------------+-----------+\n",
      "|Abata        |Armenia         |Farris Blanking |fblankingd8@google.com.au|530-854-6864  |Suite 51        |Jindong           |0          |\n",
      "|Abata        |Australia       |Bernadene Bossel|bbossellv@fema.gov       |812-276-2743  |PO Box 14734    |Evansville        |1          |\n",
      "|Abata        |Brazil          |Vivianna Niblock|vniblockn7@va.gov        |268-303-3219  |Room 816        |Ambohitrolomahitsy|2          |\n",
      "+-------------+----------------+----------------+-------------------------+--------------+----------------+------------------+-----------+\n",
      "only showing top 3 rows\n",
      "\n"
     ]
    }
   ],
   "source": [
    "dim_supplier.show(n=3, truncate=False)"
   ]
  },
  {
   "cell_type": "code",
   "execution_count": 15,
   "id": "a169306c-69f1-4f1e-84bc-2a3dc9d58e16",
   "metadata": {},
   "outputs": [],
   "source": [
    "fact_sales = df.alias(\"f\").join(dim_customer.alias(\"c\"),F.col(\"f.sale_customer_id\") == F.col(\"c.customer_id\"), \"left\").join(dim_product.alias(\"p\"),F.col(\"f.sale_product_id\") == F.col(\"p.product_id\"), \"left\").join(dim_store.alias(\"s\"),\n",
    "              (F.col(\"f.store_name\") == F.col(\"s.store_name\")) & \n",
    "              (F.col(\"f.store_location\") == F.col(\"s.store_location\")), \"left\") \\\n",
    "        .join(dim_supplier.alias(\"sup\"),\n",
    "              (F.col(\"f.supplier_name\") == F.col(\"sup.supplier_name\")) & \n",
    "              (F.col(\"f.supplier_country\") == F.col(\"sup.supplier_country\")), \"left\") \\\n",
    "        .join(dim_time.alias(\"t\"),\n",
    "              F.col(\"f.sale_date\") == F.col(\"t.date\"), \"left\") \\\n",
    "        .select(\n",
    "            F.col(\"f.sale_id\").alias(\"sale_id\"),\n",
    "            F.col(\"c.customer_id\"),\n",
    "            F.col(\"p.product_id\"),\n",
    "            F.coalesce(F.col(\"s.store_id\"), F.lit(-1)).alias(\"store_id\"),\n",
    "            F.coalesce(F.col(\"sup.supplier_id\"), F.lit(-1)).alias(\"supplier_id\"),\n",
    "            F.col(\"t.time_id\"),\n",
    "            F.col(\"sale_quantity\").alias(\"quantity\"),\n",
    "            F.col(\"sale_total_price\").alias(\"total_price\")\n",
    "        )\n"
   ]
  },
  {
   "cell_type": "code",
   "execution_count": 16,
   "id": "0e39fdbe-1fea-47fa-b68a-6be5f6ce1291",
   "metadata": {},
   "outputs": [
    {
     "name": "stdout",
     "output_type": "stream",
     "text": [
      "+-------+-----------+----------+--------+-----------+-------+--------+----------------------+\n",
      "|sale_id|customer_id|product_id|store_id|supplier_id|time_id|quantity|total_price           |\n",
      "+-------+-----------+----------+--------+-----------+-------+--------+----------------------+\n",
      "|0      |1          |1         |4263    |785        |242    |4       |487.700000000000000000|\n",
      "|2      |3          |3         |2986    |2521       |61     |9       |144.240000000000000000|\n",
      "|3      |4          |4         |2239    |891        |218    |4       |441.090000000000000000|\n",
      "+-------+-----------+----------+--------+-----------+-------+--------+----------------------+\n",
      "only showing top 3 rows\n",
      "\n"
     ]
    }
   ],
   "source": [
    "fact_sales.show(n=3, truncate=False)"
   ]
  },
  {
   "cell_type": "code",
   "execution_count": 17,
   "id": "6f2bb505-81d7-49e5-b57b-28d04bb087b3",
   "metadata": {},
   "outputs": [],
   "source": [
    "dim_customer.write.jdbc(url=jdbc_url, table=\"dim_customer\", mode=\"overwrite\", properties=connection_properties) \n",
    "dim_product.write.jdbc(url=jdbc_url, table=\"dim_product\", mode=\"overwrite\", properties=connection_properties)   \n",
    "dim_store.write.jdbc(url=jdbc_url, table=\"dim_store\", mode=\"overwrite\", properties=connection_properties)    \n",
    "dim_supplier.write.jdbc(url=jdbc_url, table=\"dim_supplier\", mode=\"overwrite\", properties=connection_properties)   \n",
    "dim_time.write.jdbc(url=jdbc_url, table=\"dim_time\", mode=\"overwrite\", properties=connection_properties)  \n",
    "fact_sales.write.jdbc(url=jdbc_url, table=\"fact_sales\", mode=\"overwrite\", properties=connection_properties)"
   ]
  },
  {
   "cell_type": "code",
   "execution_count": 18,
   "id": "99b1db1b-7fb5-4c6a-bf36-977f8b38415a",
   "metadata": {},
   "outputs": [],
   "source": [
    "spark.stop()"
   ]
  }
 ],
 "metadata": {
  "kernelspec": {
   "display_name": "Python 3 (ipykernel)",
   "language": "python",
   "name": "python3"
  },
  "language_info": {
   "codemirror_mode": {
    "name": "ipython",
    "version": 3
   },
   "file_extension": ".py",
   "mimetype": "text/x-python",
   "name": "python",
   "nbconvert_exporter": "python",
   "pygments_lexer": "ipython3",
   "version": "3.11.6"
  }
 },
 "nbformat": 4,
 "nbformat_minor": 5
}
